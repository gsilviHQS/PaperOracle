{
 "cells": [
  {
   "cell_type": "code",
   "execution_count": 1,
   "metadata": {},
   "outputs": [],
   "source": [
    "# to highlight part of a pdf file, use the following command:\n",
    "# !python -m pip install --upgrade pymupdf\n",
    "import fitz\n"
   ]
  },
  {
   "cell_type": "code",
   "execution_count": 2,
   "metadata": {},
   "outputs": [
    {
     "name": "stderr",
     "output_type": "stream",
     "text": [
      "/home/gsilvi/miniforge3/envs/PaperOracle/lib/python3.9/site-packages/tqdm/auto.py:22: TqdmWarning: IProgress not found. Please update jupyter and ipywidgets. See https://ipywidgets.readthedocs.io/en/stable/user_install.html\n",
      "  from .autonotebook import tqdm as notebook_tqdm\n",
      "None of PyTorch, TensorFlow >= 2.0, or Flax have been found. Models won't be available and only tokenizers, configuration and file/data utilities can be used.\n"
     ]
    }
   ],
   "source": [
    "from functions import extract_all_text\n",
    "import embedding_functions"
   ]
  },
  {
   "cell_type": "code",
   "execution_count": 3,
   "metadata": {},
   "outputs": [],
   "source": [
    "all_tex = extract_all_text('papers/2101.00689/Npi_paper.tex')"
   ]
  },
  {
   "cell_type": "code",
   "execution_count": 4,
   "metadata": {},
   "outputs": [
    {
     "name": "stdout",
     "output_type": "stream",
     "text": [
      "KEYS: dict_keys(['author', 'email', 'affiliation', 'title', 'date', 'abstract', 'table', 'table*', 'equation', 'align', 'enumerate', 'figure', 'figure*', 'eqnarray', 'gather', 'footnotesize'])\n",
      "SECTIONS: dict_keys(['-', 'Introduction', 'Gauge Ensemble', 'Interpolating Operators', 'Wick contractions', 'Spectra results', 'L{\\\\\"u}scher quantization conditions} ', 'Results for the scattering amplitudes', 'Parametrizations used', 'Fit procedure and results', 'Conclusions', 'Acknowledgments', 'One-to-one mapping of energy levels to phase shifts in irreps without mixing between $J=1/2$ and $J=3/2$', 'Transformation properties of operators', '\\\\texorpdfstring{Matrices $\\\\mathcalM'])\n",
      "author [('Giorgio Silvi', 58), ('\\\\mbox\\n\\\\affiliation{\\\\MAINZ', 63), ('Constantia Alexandrou', 66), ('Stefan Krieg', 71), ('Luka Leskovec', 75), ('Stefan Meinel', 79), ('John Negele', 82), ('Marcus Petschlies', 85), ('Andrew Pochinsky', 88), ('Gumaro Rendon', 91), ('Sergey Syritsyn', 95), ('Antonino Todaro', 99)]\n",
      "email [('giorgiosilvi@gmail.com', 59)]\n",
      "affiliation [('\\\\JSC', 60), ('\\\\WUP', 61), ('\\\\MAINZ', 64), ('\\\\UCY', 67), ('\\\\CYI', 68), ('\\\\JSC', 72), ('\\\\RFWUB', 73), ('\\\\JLAB', 76), ('\\n \\n\\\\author{Stefan Meinel', 77), ('\\\\UOA', 80), ('\\\\MIT', 83), ('\\\\RFWUB', 86), ('\\\\MIT', 89), ('\\\\BNL', 92), ('\\\\SBU', 96), ('\\\\RIKEN', 97), ('\\\\UCY', 100), ('\\\\UTV', 101), ('\\\\WUP', 102)]\n",
      "title [('\\\\texorpdfstring\\n\\\\date{\\\\today', 104)]\n",
      "date [('\\\\today', 105)]\n",
      "abstract [('  We determine the $\\\\Delta(1232)$ resonance parameters using lattice QCD and the L{\\\\\"u}scher method. \\n  The resonance occurs in elastic pion-nucleon scattering with $J^P=3/2^+$ in the isospin $I = 3/2$, $P$-wave channel. \\n  Our calculation is performed with $N_f=2+1$ flavors of clover fermions on a lattice with $L\\\\approx 2.8$ fm. The pion and nucleon masses \\n  are $m_\\\\pi =255.4(1.6)$ MeV and $m_N=1073(5)$ MeV, respectively, and the strong decay channel $\\\\Delta \\\\rightarrow \\\\pi N$ is found to be above the threshold. \\n  To thoroughly map out the energy-dependence of the nucleon-pion scattering amplitude, we compute the spectra in all relevant irreducible \\n  representations of the lattice symmetry groups for total momenta up to $\\\\vec{P}=\\\\frac{2\\\\pi}{L}(1,1,1)$, including irreps that mix $S$ and $P$ waves. \\n  We perform global fits of the amplitude parameters to up to 21 energy levels, using a Breit-Wigner model for the $P$-wave phase shift and the effective-range expansion for the $S$-wave phase shift.   From the location of the pole in the $P$-wave scattering amplitude, we obtain the resonance mass $m_\\\\Delta=1378(7)(9)$ MeV and the coupling $g_{\\\\Delta\\\\text{-}\\\\pi N}=23.8(2.7)(0.9)$. \\n', 107)]\n",
      "-\n",
      "Introduction\n",
      "Gauge Ensemble\n",
      "Interpolating Operators\n",
      "Wick contractions\n",
      "Spectra results\n",
      "L{\\\"u}scher quantization conditions} \n",
      "Results for the scattering amplitudes\n",
      "Parametrizations used\n",
      "Fit procedure and results\n",
      "Conclusions\n",
      "Acknowledgments\n",
      "One-to-one mapping of energy levels to phase shifts in irreps without mixing between $J=1/2$ and $J=3/2$\n",
      "Transformation properties of operators\n",
      "\\texorpdfstring{Matrices $\\mathcalM\n"
     ]
    },
    {
     "name": "stderr",
     "output_type": "stream",
     "text": [
      "Token indices sequence length is longer than the specified maximum sequence length for this model (2075 > 1024). Running this sequence through the model will result in indexing errors\n"
     ]
    },
    {
     "name": "stdout",
     "output_type": "stream",
     "text": [
      "Phrase too long: 2870  trying to split it into 55 phrases\n",
      "Phrase too long: 4993  trying to split it into 29 phrases\n",
      "Phrase too long: 3784  trying to split it into 48 phrases\n",
      "Phrase too long: 3998  trying to split it into 51 phrases\n",
      "Phrase too long: 8698  trying to split it into 1 phrases\n"
     ]
    }
   ],
   "source": [
    "final_text = embedding_functions.texStripper2(all_tex,'title','abstract') # refine the text"
   ]
  },
  {
   "cell_type": "code",
   "execution_count": 8,
   "metadata": {},
   "outputs": [],
   "source": [
    "import pandas as pd\n",
    "df = pd.DataFrame(final_text['full'], columns=['Phrase','Start','End'])\n",
    "\n"
   ]
  },
  {
   "cell_type": "code",
   "execution_count": 23,
   "metadata": {},
   "outputs": [
    {
     "name": "stdout",
     "output_type": "stream",
     "text": [
      "125\n",
      "huggingface/tokenizers: The current process just got forked, after parallelism has already been used. Disabling parallelism to avoid deadlocks...\n",
      "To disable this warning, you can either:\n",
      "\t- Avoid using `tokenizers` before the fork if possible\n",
      "\t- Explicitly set the environment variable TOKENIZERS_PARALLELISM=(true | false)\n",
      "This is SyncTeX command line utility, version 1.5\n",
      "SyncTeX result begin\n",
      "Output:papers/2101.00689/Npi_paper.pdf\n",
      "Page:1\n",
      "x:71.999985\n",
      "y:500.144440\n",
      "h:71.999985\n",
      "v:500.144440\n",
      "W:225.033615\n",
      "H:10.460772\n",
      "before:\n",
      "offset:-1\n",
      "middle:\n",
      "after:\n",
      "Output:papers/2101.00689/Npi_paper.pdf\n",
      "Page:1\n",
      "x:132.299362\n",
      "y:500.144440\n",
      "h:71.999985\n",
      "v:500.144440\n",
      "W:225.033615\n",
      "H:10.460772\n",
      "before:\n",
      "offset:-1\n",
      "middle:\n",
      "after:\n",
      "Output:papers/2101.00689/Npi_paper.pdf\n",
      "Page:1\n",
      "x:132.299362\n",
      "y:500.144440\n",
      "h:71.999985\n",
      "v:500.144440\n",
      "W:225.033615\n",
      "H:10.460772\n",
      "before:\n",
      "offset:-1\n",
      "middle:\n",
      "after:\n",
      "Output:papers/2101.00689/Npi_paper.pdf\n",
      "Page:1\n",
      "x:132.299362\n",
      "y:489.683655\n",
      "h:71.999985\n",
      "v:500.144440\n",
      "W:225.033615\n",
      "H:10.460772\n",
      "before:\n",
      "offset:-1\n",
      "middle:\n",
      "after:\n",
      "SyncTeX result end\n"
     ]
    }
   ],
   "source": [
    "# extract line 36 from df\n",
    "start = df.iloc[36].Start\n",
    "end = df.iloc[36].End\n",
    "print(end)\n",
    "!synctex view -i 123:0:papers/2101.00689/Npi_paper.tex -o papers/2101.00689/Npi_paper.pdf "
   ]
  },
  {
   "cell_type": "code",
   "execution_count": 24,
   "metadata": {},
   "outputs": [
    {
     "name": "stdout",
     "output_type": "stream",
     "text": [
      "[Rect(132.0, 489.0, 200.0, 500.0)]\n",
      "[Rect(132.0, 489.0, 200.0, 500.0)]\n",
      "[Rect(132.0, 489.0, 200.0, 500.0)]\n",
      "[Rect(132.0, 489.0, 200.0, 500.0)]\n",
      "[Rect(132.0, 489.0, 200.0, 500.0)]\n",
      "[Rect(132.0, 489.0, 200.0, 500.0)]\n",
      "[Rect(132.0, 489.0, 200.0, 500.0)]\n",
      "[Rect(132.0, 489.0, 200.0, 500.0)]\n",
      "[Rect(132.0, 489.0, 200.0, 500.0)]\n",
      "[Rect(132.0, 489.0, 200.0, 500.0)]\n",
      "[Rect(132.0, 489.0, 200.0, 500.0)]\n",
      "[Rect(132.0, 489.0, 200.0, 500.0)]\n",
      "[Rect(132.0, 489.0, 200.0, 500.0)]\n",
      "[Rect(132.0, 489.0, 200.0, 500.0)]\n",
      "[Rect(132.0, 489.0, 200.0, 500.0)]\n",
      "[Rect(132.0, 489.0, 200.0, 500.0)]\n",
      "[Rect(132.0, 489.0, 200.0, 500.0)]\n",
      "[Rect(132.0, 489.0, 200.0, 500.0)]\n"
     ]
    }
   ],
   "source": [
    "### READ IN PDF\n",
    "doc = fitz.open(\"papers/2101.00689/Npi_paper.pdf\")\n",
    "text_instances = [fitz.Rect(132,489, 200,500)]\n",
    "\n",
    "for page in doc:\n",
    "    ### SEARCH\n",
    "    # text = \"lattice\"\n",
    "    # text_instances = page.search_for(text)\n",
    "    print(text_instances)\n",
    "    ### HIGHLIGHT\n",
    "\n",
    "    for inst in text_instances:\n",
    "        highlight = page.add_highlight_annot(inst)\n",
    "        highlight.update()\n",
    "### OUTPUT\n",
    "doc.save(\"output.pdf\", garbage=4, deflate=True, clean=True)"
   ]
  },
  {
   "cell_type": "code",
   "execution_count": null,
   "metadata": {},
   "outputs": [],
   "source": []
  }
 ],
 "metadata": {
  "kernelspec": {
   "display_name": "Python 3.9.13 ('PaperOracle')",
   "language": "python",
   "name": "python3"
  },
  "language_info": {
   "codemirror_mode": {
    "name": "ipython",
    "version": 3
   },
   "file_extension": ".py",
   "mimetype": "text/x-python",
   "name": "python",
   "nbconvert_exporter": "python",
   "pygments_lexer": "ipython3",
   "version": "3.9.13"
  },
  "orig_nbformat": 4,
  "vscode": {
   "interpreter": {
    "hash": "adfda680b332929768398405ffef5c5fca2eb1802e013d485b0c57cfe5351235"
   }
  }
 },
 "nbformat": 4,
 "nbformat_minor": 2
}
