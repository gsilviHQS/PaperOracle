{
 "cells": [
  {
   "cell_type": "code",
   "execution_count": 1,
   "metadata": {},
   "outputs": [],
   "source": [
    "# to highlight part of a pdf file, use the following command:\n",
    "# !python -m pip install --upgrade pymupdf\n",
    "import fitz\n"
   ]
  },
  {
   "cell_type": "code",
   "execution_count": 2,
   "metadata": {},
   "outputs": [
    {
     "name": "stderr",
     "output_type": "stream",
     "text": [
      "/home/gsilvi/miniforge3/envs/PaperOracle/lib/python3.9/site-packages/tqdm/auto.py:22: TqdmWarning: IProgress not found. Please update jupyter and ipywidgets. See https://ipywidgets.readthedocs.io/en/stable/user_install.html\n",
      "  from .autonotebook import tqdm as notebook_tqdm\n",
      "None of PyTorch, TensorFlow >= 2.0, or Flax have been found. Models won't be available and only tokenizers, configuration and file/data utilities can be used.\n"
     ]
    }
   ],
   "source": [
    "from functions import extract_all_text2\n",
    "import embedding_functions"
   ]
  },
  {
   "cell_type": "code",
   "execution_count": 3,
   "metadata": {},
   "outputs": [],
   "source": [
    "all_tex = extract_all_text2('papers/2101.00689/Npi_paper.tex')"
   ]
  },
  {
   "cell_type": "code",
   "execution_count": 4,
   "metadata": {},
   "outputs": [
    {
     "name": "stdout",
     "output_type": "stream",
     "text": [
      "KEYS: dict_keys(['author', 'email', 'affiliation', 'title', 'date', 'abstract', 'table', 'table*', 'equation', 'align', 'enumerate', 'figure', 'figure*', 'eqnarray', 'gather', 'footnotesize'])\n",
      "SECTIONS: dict_keys(['-', 'Introduction', 'Gauge Ensemble', 'Interpolating Operators', 'Wick contractions', 'Spectra results', 'L{\\\\\"u}scher quantization conditions}\\n', 'Results for the scattering amplitudes', 'Parametrizations used', 'Fit procedure and results', 'Conclusions', 'Acknowledgments', 'One-to-one mapping of energy levels to phase shifts in irreps without mixing between $J=1/2$ and $J=3/2$', 'Transformation properties of operators', '\\\\texorpdfstring{Matrices $\\\\mathcalM'])\n",
      "author [('Giorgio Silvi', 58), ('\\\\mbox\\\\affiliation{\\\\MAINZ', 63), ('Constantia Alexandrou', 66), ('Stefan Krieg', 71), ('Luka Leskovec', 75), ('Stefan Meinel', 79), ('John Negele', 82), ('Marcus Petschlies', 85), ('Andrew Pochinsky', 88), ('Gumaro Rendon', 91), ('Sergey Syritsyn', 95), ('Antonino Todaro', 99)]\n",
      "email [('giorgiosilvi@gmail.com', 59)]\n",
      "affiliation [('\\\\JSC', 60), ('\\\\WUP', 61), ('\\\\MAINZ', 64), ('\\\\UCY', 67), ('\\\\CYI', 68), ('\\\\JSC', 72), ('\\\\RFWUB', 73), ('\\\\JLAB', 76), ('\\n\\\\author{Stefan Meinel', 77), ('\\\\UOA', 80), ('\\\\MIT', 83), ('\\\\RFWUB', 86), ('\\\\MIT', 89), ('\\\\BNL', 92), ('\\\\SBU', 96), ('\\\\RIKEN', 97), ('\\\\UCY', 100), ('\\\\UTV', 101), ('\\\\WUP', 102)]\n",
      "title [('\\\\texorpdfstring\\\\date{\\\\today', 104)]\n",
      "date [('\\\\today', 105)]\n",
      "abstract [('  We determine the $\\\\Delta(1232)$ resonance parameters using lattice QCD and the L{\\\\\"u}scher method.\\n   The resonance occurs in elastic pion-nucleon scattering with $J^P=3/2^+$ in the isospin $I = 3/2$, $P$-wave channel.\\n   Our calculation is performed with $N_f=2+1$ flavors of clover fermions on a lattice with $L\\\\approx 2.8$ fm. The pion and nucleon masses\\n   are $m_\\\\pi =255.4(1.6)$ MeV and $m_N=1073(5)$ MeV, respectively, and the strong decay channel $\\\\Delta \\\\rightarrow \\\\pi N$ is found to be above the threshold.\\n   To thoroughly map out the energy-dependence of the nucleon-pion scattering amplitude, we compute the spectra in all relevant irreducible\\n   representations of the lattice symmetry groups for total momenta up to $\\\\vec{P}=\\\\frac{2\\\\pi}{L}(1,1,1)$, including irreps that mix $S$ and $P$ waves.\\n   We perform global fits of the amplitude parameters to up to 21 energy levels, using a Breit-Wigner model for the $P$-wave phase shift and the effective-range expansion for the $S$-wave phase shift.   From the location of the pole in the $P$-wave scattering amplitude, we obtain the resonance mass $m_\\\\Delta=1378(7)(9)$ MeV and the coupling $g_{\\\\Delta\\\\text{-}\\\\pi N}=23.8(2.7)(0.9)$.\\n ', 107)]\n",
      "-\n",
      "Introduction\n",
      "Gauge Ensemble\n",
      "Interpolating Operators\n",
      "Wick contractions\n",
      "Spectra results\n",
      "L{\\\"u}scher quantization conditions}\n",
      "\n",
      "Results for the scattering amplitudes\n",
      "Parametrizations used\n",
      "Fit procedure and results\n",
      "Conclusions\n",
      "Acknowledgments\n",
      "One-to-one mapping of energy levels to phase shifts in irreps without mixing between $J=1/2$ and $J=3/2$\n",
      "Transformation properties of operators\n",
      "\\texorpdfstring{Matrices $\\mathcalM\n"
     ]
    },
    {
     "name": "stderr",
     "output_type": "stream",
     "text": [
      "Token indices sequence length is longer than the specified maximum sequence length for this model (2093 > 1024). Running this sequence through the model will result in indexing errors\n"
     ]
    },
    {
     "name": "stdout",
     "output_type": "stream",
     "text": [
      "Phrase too long: 2889  trying to split it into 1 phrases\n",
      "Phrase too long: 6334  trying to split it into 1 phrases\n",
      "Phrase too long: 6031  trying to split it into 1 phrases\n",
      "Phrase too long: 4059  trying to split it into 1 phrases\n",
      "Phrase too long: 8735  trying to split it into 1 phrases\n"
     ]
    }
   ],
   "source": [
    "final_text = embedding_functions.texStripper2(all_tex,'title','abstract') # refine the text"
   ]
  },
  {
   "cell_type": "code",
   "execution_count": 5,
   "metadata": {},
   "outputs": [],
   "source": [
    "import pandas as pd\n",
    "for file in final_text.keys():\n",
    "    df = pd.DataFrame(final_text[file]['full'], columns=['Phrase','Line', 'LineEnd'])\n",
    "\n",
    "# fix case where you have \\begin{something} and \\end{something} on different lines\n",
    "# reuse line.startswith(\"\\\\begin{\") && extract_begin_to_end(complete_text2,l,'\\\\end{'+keyword)\n",
    "# .\\n is good for most cases  unless the above happen.\n",
    "\n"
   ]
  },
  {
   "cell_type": "code",
   "execution_count": 8,
   "metadata": {},
   "outputs": [
    {
     "name": "stdout",
     "output_type": "stream",
     "text": [
      "Phrase    [[Introduction]]The $\\Delta(1232)$ (in the fol...\n",
      "Start                                                   123\n",
      "End                                                     125\n",
      "Name: 36, dtype: object\n",
      "123 125\n",
      "123\n",
      "124\n",
      "125\n",
      "{'Output': 'papers/2101.00689/Npi_paper.pdf', 'Page': '1', 'x': '71.999985', 'y': '500.144440', 'h': '71.999985', 'v': '500.144440', 'W': '225.033615', 'H': '10.460772', 'before': '', 'offset': '-1', 'middle': '', 'after': ''}\n",
      "{'Output': 'papers/2101.00689/Npi_paper.pdf', 'Page': '1', 'x': '132.299362', 'y': '500.144440', 'h': '71.999985', 'v': '500.144440', 'W': '225.033615', 'H': '10.460772', 'before': '', 'offset': '-1', 'middle': '', 'after': ''}\n",
      "{'Output': 'papers/2101.00689/Npi_paper.pdf', 'Page': '1', 'x': '132.299362', 'y': '500.144440', 'h': '71.999985', 'v': '500.144440', 'W': '225.033615', 'H': '10.460772', 'before': '', 'offset': '-1', 'middle': '', 'after': ''}\n",
      "{'Output': 'papers/2101.00689/Npi_paper.pdf', 'Page': '1', 'x': '132.299362', 'y': '489.683655', 'h': '71.999985', 'v': '500.144440', 'W': '225.033615', 'H': '10.460772', 'before': '', 'offset': '-1', 'middle': '', 'after': ''}\n",
      "{'Output': 'papers/2101.00689/Npi_paper.pdf', 'Page': '1', 'x': '93.862488', 'y': '607.721375', 'h': '71.999985', 'v': '611.156921', 'W': '225.033615', 'H': '13.706580', 'before': '', 'offset': '-1', 'middle': '', 'after': ''}\n",
      "{'Output': 'papers/2101.00689/Npi_paper.pdf', 'Page': '1', 'x': '99.120529', 'y': '525.774658', 'h': '71.999985', 'v': '528.265320', 'W': '225.033615', 'H': '9.962640', 'before': '', 'offset': '-1', 'middle': '', 'after': ''}\n",
      "{'Output': 'papers/2101.00689/Npi_paper.pdf', 'Page': '1', 'x': '123.252327', 'y': '537.231689', 'h': '71.999985', 'v': '539.168884', 'W': '225.033615', 'H': '8.855677', 'before': '', 'offset': '-1', 'middle': '', 'after': ''}\n",
      "{'Output': 'papers/2101.00689/Npi_paper.pdf', 'Page': '1', 'x': '91.427162', 'y': '642.092529', 'h': '71.999985', 'v': '644.583191', 'W': '225.033615', 'H': '9.962640', 'before': '', 'offset': '-1', 'middle': '', 'after': ''}\n",
      "{'Output': 'papers/2101.00689/Npi_paper.pdf', 'Page': '1', 'x': '98.013626', 'y': '630.635437', 'h': '71.999985', 'v': '632.572632', 'W': '225.033615', 'H': '8.855677', 'before': '', 'offset': '-1', 'middle': '', 'after': ''}\n",
      "{'Output': 'papers/2101.00689/Npi_paper.pdf', 'Page': '1', 'x': '88.659775', 'y': '619.178406', 'h': '71.999985', 'v': '621.115601', 'W': '225.033615', 'H': '8.855677', 'before': '', 'offset': '-1', 'middle': '', 'after': ''}\n",
      "{'Output': 'papers/2101.00689/Npi_paper.pdf', 'Page': '1', 'x': '115.725021', 'y': '594.516907', 'h': '71.999985', 'v': '596.454102', 'W': '225.033615', 'H': '8.855677', 'before': '', 'offset': '-1', 'middle': '', 'after': ''}\n",
      "{'Output': 'papers/2101.00689/Npi_paper.pdf', 'Page': '1', 'x': '119.654716', 'y': '571.602783', 'h': '71.999985', 'v': '573.539978', 'W': '225.033615', 'H': '8.855677', 'before': '', 'offset': '-1', 'middle': '', 'after': ''}\n",
      "{'Output': 'papers/2101.00689/Npi_paper.pdf', 'Page': '1', 'x': '104.932106', 'y': '560.145752', 'h': '71.999985', 'v': '562.636414', 'W': '225.033615', 'H': '9.962640', 'before': '', 'offset': '-1', 'middle': '', 'after': ''}\n",
      "{'Output': 'papers/2101.00689/Npi_paper.pdf', 'Page': '1', 'x': '94.692703', 'y': '548.688721', 'h': '71.999985', 'v': '550.625916', 'W': '225.033615', 'H': '8.855677', 'before': '', 'offset': '-1', 'middle': '', 'after': ''}\n",
      "{'Output': 'papers/2101.00689/Npi_paper.pdf', 'Page': '1', 'x': '114.701050', 'y': '583.059875', 'h': '71.999985', 'v': '584.997070', 'W': '225.033615', 'H': '8.855677', 'before': '', 'offset': '-1', 'middle': '', 'after': ''}\n",
      "{'Output': 'papers/2101.00689/Npi_paper.pdf', 'Page': '1', 'x': '189.367340', 'y': '604.106018', 'h': '71.999985', 'v': '611.156921', 'W': '225.033615', 'H': '13.706580', 'before': '', 'offset': '-1', 'middle': '', 'after': ''}\n",
      "{'Output': 'papers/2101.00689/Npi_paper.pdf', 'Page': '1', 'x': '135.931763', 'y': '632.129883', 'h': '71.999985', 'v': '632.572632', 'W': '225.033615', 'H': '8.855677', 'before': '', 'offset': '-1', 'middle': '', 'after': ''}\n",
      "{'Output': 'papers/2101.00689/Npi_paper.pdf', 'Page': '1', 'x': '176.163666', 'y': '620.672852', 'h': '71.999985', 'v': '621.115601', 'W': '225.033615', 'H': '8.855677', 'before': '', 'offset': '-1', 'middle': '', 'after': ''}\n",
      "{'Output': 'papers/2101.00689/Npi_paper.pdf', 'Page': '1', 'x': '264.112244', 'y': '611.156860', 'h': '71.999985', 'v': '611.156921', 'W': '225.033615', 'H': '13.706580', 'before': '', 'offset': '-1', 'middle': '', 'after': ''}\n",
      "{'Output': 'papers/2101.00689/Npi_paper.pdf', 'Page': '1', 'x': '264.112244', 'y': '603.798767', 'h': '71.999985', 'v': '611.156921', 'W': '225.033615', 'H': '13.706580', 'before': '', 'offset': '-1', 'middle': '', 'after': ''}\n",
      "{'Output': 'papers/2101.00689/Npi_paper.pdf', 'Page': '1', 'x': '262.916748', 'y': '607.721375', 'h': '71.999985', 'v': '611.156921', 'W': '225.033615', 'H': '13.706580', 'before': '', 'offset': '-1', 'middle': '', 'after': ''}\n",
      "{'Output': 'papers/2101.00689/Npi_paper.pdf', 'Page': '1', 'x': '262.916748', 'y': '607.721375', 'h': '71.999985', 'v': '611.156921', 'W': '225.033615', 'H': '13.706580', 'before': '', 'offset': '-1', 'middle': '', 'after': ''}\n",
      "{'Output': 'papers/2101.00689/Npi_paper.pdf', 'Page': '1', 'x': '215.655807', 'y': '601.767517', 'h': '71.999985', 'v': '611.156921', 'W': '225.033615', 'H': '13.706580', 'before': '', 'offset': '-1', 'middle': '', 'after': ''}\n",
      "{'Output': 'papers/2101.00689/Npi_paper.pdf', 'Page': '1', 'x': '210.489059', 'y': '611.156860', 'h': '71.999985', 'v': '611.156921', 'W': '225.033615', 'H': '13.706580', 'before': '', 'offset': '-1', 'middle': '', 'after': ''}\n",
      "{'Output': 'papers/2101.00689/Npi_paper.pdf', 'Page': '1', 'x': '210.489059', 'y': '603.798767', 'h': '71.999985', 'v': '611.156921', 'W': '225.033615', 'H': '13.706580', 'before': '', 'offset': '-1', 'middle': '', 'after': ''}\n",
      "{'Output': 'papers/2101.00689/Npi_paper.pdf', 'Page': '1', 'x': '209.293549', 'y': '607.721375', 'h': '71.999985', 'v': '611.156921', 'W': '225.033615', 'H': '13.706580', 'before': '', 'offset': '-1', 'middle': '', 'after': ''}\n",
      "{'Output': 'papers/2101.00689/Npi_paper.pdf', 'Page': '1', 'x': '209.293549', 'y': '607.721375', 'h': '71.999985', 'v': '611.156921', 'W': '225.033615', 'H': '13.706580', 'before': '', 'offset': '-1', 'middle': '', 'after': ''}\n",
      "{'Output': 'papers/2101.00689/Npi_paper.pdf', 'Page': '1', 'x': '93.862488', 'y': '607.721375', 'h': '71.999985', 'v': '611.156921', 'W': '225.033615', 'H': '13.706580', 'before': '', 'offset': '-1', 'middle': '', 'after': ''}\n",
      "{'Output': 'papers/2101.00689/Npi_paper.pdf', 'Page': '1', 'x': '99.120529', 'y': '525.774658', 'h': '71.999985', 'v': '528.265320', 'W': '225.033615', 'H': '9.962640', 'before': '', 'offset': '-1', 'middle': '', 'after': ''}\n",
      "{'Output': 'papers/2101.00689/Npi_paper.pdf', 'Page': '1', 'x': '123.252327', 'y': '537.231689', 'h': '71.999985', 'v': '539.168884', 'W': '225.033615', 'H': '8.855677', 'before': '', 'offset': '-1', 'middle': '', 'after': ''}\n",
      "{'Output': 'papers/2101.00689/Npi_paper.pdf', 'Page': '1', 'x': '91.427162', 'y': '642.092529', 'h': '71.999985', 'v': '644.583191', 'W': '225.033615', 'H': '9.962640', 'before': '', 'offset': '-1', 'middle': '', 'after': ''}\n",
      "{'Output': 'papers/2101.00689/Npi_paper.pdf', 'Page': '1', 'x': '98.013626', 'y': '630.635437', 'h': '71.999985', 'v': '632.572632', 'W': '225.033615', 'H': '8.855677', 'before': '', 'offset': '-1', 'middle': '', 'after': ''}\n",
      "{'Output': 'papers/2101.00689/Npi_paper.pdf', 'Page': '1', 'x': '88.659775', 'y': '619.178406', 'h': '71.999985', 'v': '621.115601', 'W': '225.033615', 'H': '8.855677', 'before': '', 'offset': '-1', 'middle': '', 'after': ''}\n",
      "{'Output': 'papers/2101.00689/Npi_paper.pdf', 'Page': '1', 'x': '115.725021', 'y': '594.516907', 'h': '71.999985', 'v': '596.454102', 'W': '225.033615', 'H': '8.855677', 'before': '', 'offset': '-1', 'middle': '', 'after': ''}\n",
      "{'Output': 'papers/2101.00689/Npi_paper.pdf', 'Page': '1', 'x': '119.654716', 'y': '571.602783', 'h': '71.999985', 'v': '573.539978', 'W': '225.033615', 'H': '8.855677', 'before': '', 'offset': '-1', 'middle': '', 'after': ''}\n",
      "{'Output': 'papers/2101.00689/Npi_paper.pdf', 'Page': '1', 'x': '104.932106', 'y': '560.145752', 'h': '71.999985', 'v': '562.636414', 'W': '225.033615', 'H': '9.962640', 'before': '', 'offset': '-1', 'middle': '', 'after': ''}\n",
      "{'Output': 'papers/2101.00689/Npi_paper.pdf', 'Page': '1', 'x': '94.692703', 'y': '548.688721', 'h': '71.999985', 'v': '550.625916', 'W': '225.033615', 'H': '8.855677', 'before': '', 'offset': '-1', 'middle': '', 'after': ''}\n",
      "{'Output': 'papers/2101.00689/Npi_paper.pdf', 'Page': '1', 'x': '114.701050', 'y': '583.059875', 'h': '71.999985', 'v': '584.997070', 'W': '225.033615', 'H': '8.855677', 'before': '', 'offset': '-1', 'middle': '', 'after': ''}\n",
      "{'Output': 'papers/2101.00689/Npi_paper.pdf', 'Page': '1', 'x': '189.367340', 'y': '604.106018', 'h': '71.999985', 'v': '611.156921', 'W': '225.033615', 'H': '13.706580', 'before': '', 'offset': '-1', 'middle': '', 'after': ''}\n",
      "{'Output': 'papers/2101.00689/Npi_paper.pdf', 'Page': '1', 'x': '135.931763', 'y': '632.129883', 'h': '71.999985', 'v': '632.572632', 'W': '225.033615', 'H': '8.855677', 'before': '', 'offset': '-1', 'middle': '', 'after': ''}\n",
      "{'Output': 'papers/2101.00689/Npi_paper.pdf', 'Page': '1', 'x': '176.163666', 'y': '620.672852', 'h': '71.999985', 'v': '621.115601', 'W': '225.033615', 'H': '8.855677', 'before': '', 'offset': '-1', 'middle': '', 'after': ''}\n",
      "{'Output': 'papers/2101.00689/Npi_paper.pdf', 'Page': '1', 'x': '264.112244', 'y': '611.156860', 'h': '71.999985', 'v': '611.156921', 'W': '225.033615', 'H': '13.706580', 'before': '', 'offset': '-1', 'middle': '', 'after': ''}\n",
      "{'Output': 'papers/2101.00689/Npi_paper.pdf', 'Page': '1', 'x': '264.112244', 'y': '603.798767', 'h': '71.999985', 'v': '611.156921', 'W': '225.033615', 'H': '13.706580', 'before': '', 'offset': '-1', 'middle': '', 'after': ''}\n",
      "{'Output': 'papers/2101.00689/Npi_paper.pdf', 'Page': '1', 'x': '262.916748', 'y': '607.721375', 'h': '71.999985', 'v': '611.156921', 'W': '225.033615', 'H': '13.706580', 'before': '', 'offset': '-1', 'middle': '', 'after': ''}\n",
      "{'Output': 'papers/2101.00689/Npi_paper.pdf', 'Page': '1', 'x': '262.916748', 'y': '607.721375', 'h': '71.999985', 'v': '611.156921', 'W': '225.033615', 'H': '13.706580', 'before': '', 'offset': '-1', 'middle': '', 'after': ''}\n",
      "{'Output': 'papers/2101.00689/Npi_paper.pdf', 'Page': '1', 'x': '215.655807', 'y': '601.767517', 'h': '71.999985', 'v': '611.156921', 'W': '225.033615', 'H': '13.706580', 'before': '', 'offset': '-1', 'middle': '', 'after': ''}\n",
      "{'Output': 'papers/2101.00689/Npi_paper.pdf', 'Page': '1', 'x': '210.489059', 'y': '611.156860', 'h': '71.999985', 'v': '611.156921', 'W': '225.033615', 'H': '13.706580', 'before': '', 'offset': '-1', 'middle': '', 'after': ''}\n",
      "{'Output': 'papers/2101.00689/Npi_paper.pdf', 'Page': '1', 'x': '210.489059', 'y': '603.798767', 'h': '71.999985', 'v': '611.156921', 'W': '225.033615', 'H': '13.706580', 'before': '', 'offset': '-1', 'middle': '', 'after': ''}\n",
      "{'Output': 'papers/2101.00689/Npi_paper.pdf', 'Page': '1', 'x': '209.293549', 'y': '607.721375', 'h': '71.999985', 'v': '611.156921', 'W': '225.033615', 'H': '13.706580', 'before': '', 'offset': '-1', 'middle': '', 'after': ''}\n",
      "{'Output': 'papers/2101.00689/Npi_paper.pdf', 'Page': '1', 'x': '209.293549', 'y': '607.721375', 'h': '71.999985', 'v': '611.156921', 'W': '225.033615', 'H': '13.706580', 'before': '', 'offset': '-1', 'middle': '', 'after': ''}\n"
     ]
    }
   ],
   "source": [
    "#set the environment variable TOKENIZERS_PARALLELISM=true\n",
    "import os\n",
    "os.environ[\"TOKENIZERS_PARALLELISM\"] = \"true\"\n",
    "\n",
    "# extract line 36 from df\n",
    "import subprocess\n",
    "line_in_df = 36\n",
    "\n",
    "start = df.iloc[line_in_df].Line\n",
    "print(df.iloc[line_in_df])\n",
    "\n",
    "print(start)\n",
    "result = ''\n",
    "collection = list()\n",
    "gen_dict = {}\n",
    "for row in range(start,start+1):\n",
    "    print(row)\n",
    "    result += subprocess.run(['synctex', 'view', '-i',f'{row}:0:papers/2101.00689/Npi_paper.tex','-o','papers/2101.00689/Npi_paper.pdf' ], stdout=subprocess.PIPE).stdout.decode('utf-8')\n",
    "\n",
    "for stuck in result.split('\\n'):\n",
    "    \n",
    "    if ':' in stuck:\n",
    "        key, value = stuck.split(':')\n",
    "        gen_dict[key] = value\n",
    "        if key=='after':\n",
    "            collection.append(gen_dict)\n",
    "            gen_dict = {}\n",
    "            \n",
    "\n",
    "\n",
    "for c in collection:    \n",
    "    print(c)\n",
    "\n",
    "# height from y to v\n",
    "# width from x to h+W"
   ]
  },
  {
   "cell_type": "code",
   "execution_count": 9,
   "metadata": {},
   "outputs": [
    {
     "name": "stdout",
     "output_type": "stream",
     "text": [
      "0\n",
      "('1', 71.999985, 518.30268, 297.0336, 528.26532)\n",
      "('1', 71.999985, 597.450341, 297.0336, 611.156921)\n",
      "('1', 71.999985, 541.770239, 297.0336, 550.625916)\n",
      "('1', 71.999985, 564.684301, 297.0336, 573.539978)\n",
      "('1', 71.999985, 552.673774, 297.0336, 562.636414)\n",
      "('1', 71.999985, 587.598425, 297.0336, 596.454102)\n",
      "('1', 71.999985, 623.716955, 297.0336, 632.572632)\n",
      "('1', 71.999985, 576.141393, 297.0336, 584.99707)\n",
      "('1', 71.999985, 489.68366799999995, 297.0336, 500.14444)\n",
      "('1', 71.999985, 612.259924, 297.0336, 621.115601)\n",
      "('1', 71.999985, 634.6205510000001, 297.0336, 644.583191)\n",
      "('1', 71.999985, 530.313207, 297.0336, 539.168884)\n",
      "('1', 94.692703, 548.688721, 297.0336, 550.625916)\n",
      "('1', 209.293549, 607.721375, 297.0336, 611.156921)\n",
      "('1', 135.931763, 632.129883, 297.0336, 632.572632)\n",
      "('1', 210.489059, 603.798767, 297.0336, 611.156921)\n",
      "('1', 98.013626, 630.635437, 297.0336, 632.572632)\n",
      "('1', 93.862488, 607.721375, 297.0336, 611.156921)\n",
      "('1', 189.36734, 604.106018, 297.0336, 611.156921)\n",
      "('1', 104.932106, 560.145752, 297.0336, 562.636414)\n",
      "('1', 210.489059, 611.15686, 297.0336, 611.156921)\n",
      "('1', 132.299362, 489.683655, 297.0336, 500.14444)\n",
      "('1', 123.252327, 537.231689, 297.0336, 539.168884)\n",
      "('1', 115.725021, 594.516907, 297.0336, 596.454102)\n",
      "('1', 176.163666, 620.672852, 297.0336, 621.115601)\n",
      "('1', 91.427162, 642.092529, 297.0336, 644.583191)\n",
      "('1', 262.916748, 607.721375, 297.0336, 611.156921)\n",
      "('1', 99.120529, 525.774658, 297.0336, 528.26532)\n",
      "('1', 215.655807, 601.767517, 297.0336, 611.156921)\n",
      "('1', 264.112244, 603.798767, 297.0336, 611.156921)\n",
      "('1', 114.70105, 583.059875, 297.0336, 584.99707)\n",
      "('1', 264.112244, 611.15686, 297.0336, 611.156921)\n",
      "('1', 88.659775, 619.178406, 297.0336, 621.115601)\n",
      "('1', 119.654716, 571.602783, 297.0336, 573.539978)\n",
      "1\n",
      "2\n",
      "3\n",
      "4\n",
      "5\n",
      "6\n",
      "7\n",
      "8\n",
      "9\n",
      "10\n",
      "11\n",
      "12\n",
      "13\n",
      "14\n",
      "15\n",
      "16\n",
      "17\n"
     ]
    }
   ],
   "source": [
    "### READ IN PDF\n",
    "doc = fitz.open(\"papers/2101.00689/Npi_paper.pdf\")\n",
    "# text_instances = [fitz.Rect(132,489, 296,500)]\n",
    "text_instances = set()\n",
    "text_instances2 = set()\n",
    "\n",
    "for stuck in collection:\n",
    "        \n",
    "    if float(stuck['y'])<float(stuck['v']):\n",
    "        text_instances2.add((stuck['Page'],\n",
    "                              float(stuck['x']),\n",
    "                              float(stuck['y']),\n",
    "                              float(stuck['h'])+float(stuck['W']),\n",
    "                              float(stuck['v']))\n",
    "                              )\n",
    "    \n",
    "    text_instances.add((stuck['Page'],\n",
    "                        float(stuck['h']),\n",
    "                        float(stuck['v'])-float(stuck['H']),\n",
    "                        float(stuck['h'])+float(stuck['W']),\n",
    "                        float(stuck['v']))\n",
    "                        )\n",
    "    ### HIGHLIGHT\n",
    "for page in doc:\n",
    "    ### SEARCH\n",
    "    print(page.number)\n",
    "    \n",
    "    for inst in text_instances:\n",
    "        # divide the tuple inst into its components\n",
    "        (pageNum, x0, y0, x1, y1) = inst \n",
    "        if pageNum==str(page.number+1):\n",
    "            print(inst)\n",
    "            highlight = page.add_highlight_annot(fitz.Rect(x0, y0, x1, y1))\n",
    "            highlight.update()\n",
    "    for inst in text_instances2:\n",
    "        # divide the tuple inst into its components\n",
    "        (pageNum, x0, y0, x1, y1) = inst \n",
    "        if pageNum==str(page.number+1):\n",
    "            print(inst)\n",
    "            highlight = page.add_underline_annot(fitz.Rect(x0, y0, x1, y1))\n",
    "            highlight.update()\n",
    "### OUTPUT\n",
    "\n",
    "doc.save(\"output.pdf\", garbage=4, deflate=True, clean=True)"
   ]
  },
  {
   "cell_type": "code",
   "execution_count": null,
   "metadata": {},
   "outputs": [],
   "source": []
  }
 ],
 "metadata": {
  "kernelspec": {
   "display_name": "Python 3.9.13 ('PaperOracle')",
   "language": "python",
   "name": "python3"
  },
  "language_info": {
   "codemirror_mode": {
    "name": "ipython",
    "version": 3
   },
   "file_extension": ".py",
   "mimetype": "text/x-python",
   "name": "python",
   "nbconvert_exporter": "python",
   "pygments_lexer": "ipython3",
   "version": "3.9.13"
  },
  "orig_nbformat": 4,
  "vscode": {
   "interpreter": {
    "hash": "adfda680b332929768398405ffef5c5fca2eb1802e013d485b0c57cfe5351235"
   }
  }
 },
 "nbformat": 4,
 "nbformat_minor": 2
}
