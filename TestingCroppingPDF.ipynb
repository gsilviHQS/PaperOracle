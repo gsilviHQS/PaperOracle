{
 "cells": [
  {
   "cell_type": "markdown",
   "metadata": {},
   "source": [
    "# PyPDF2"
   ]
  },
  {
   "cell_type": "code",
   "execution_count": 25,
   "metadata": {},
   "outputs": [],
   "source": [
    "from PyPDF2 import PdfFileWriter, PdfFileReader\n",
    "from pdf2image import convert_from_bytes\n",
    "import io\n",
    "with open(\"papers/2101.00689/Npi_paper.pdf\", \"rb\") as in_f:\n",
    "    input1 = PdfFileReader(in_f)\n",
    "    output = PdfFileWriter()\n",
    "\n",
    "    numPages = input1.getNumPages()\n",
    "\n",
    "    x, y, w, h = (71.999985, 351.44455, 539.999985, 470.686157)\n",
    "\n",
    "    # page_x, page_y = input1.getPage(0).cropBox.getUpperLeft()\n",
    "    # upperLeft = [page_x.as_numeric(), page_y.as_numeric()] # convert PyPDF2.FloatObjects into floats\n",
    "    new_upperLeft  = (x, y)\n",
    "    new_lowerRight = (w, h)\n",
    "\n",
    "    for i in range(numPages):\n",
    "        if i==0:\n",
    "            page = input1.getPage(i)\n",
    "            page.cropBox.upperLeft  = new_upperLeft\n",
    "            page.cropBox.lowerRight = new_lowerRight\n",
    "\n",
    "            output.addPage(page)\n",
    "            # convert output to io.BytesIO object\n",
    "            outputStream = io.BytesIO()\n",
    "            output.write(outputStream)\n",
    "            outputStream.seek(0)\n",
    "\n",
    "            pages = convert_from_bytes(outputStream.read(),use_cropbox=True)\n",
    "            for page in pages:\n",
    "                page.save(f'trash/NEWcrop{i}.jpg', 'JPEG')\n",
    "\n",
    "    with open(\"out.pdf\", \"wb\") as out_f:\n",
    "        output.write(out_f)"
   ]
  },
  {
   "cell_type": "markdown",
   "metadata": {},
   "source": [
    "# pdf2image"
   ]
  },
  {
   "cell_type": "code",
   "execution_count": 12,
   "metadata": {},
   "outputs": [],
   "source": [
    "# simple convert\n",
    "from pdf2image import convert_from_path\n",
    "\n",
    "\n",
    "pages = convert_from_path('papers/2101.00689/Npi_paper.pdf', 500)\n",
    "for ii, page in enumerate(pages):\n",
    "    page.save(f'trash/p2i{ii}.jpg', 'JPEG')"
   ]
  },
  {
   "cell_type": "markdown",
   "metadata": {},
   "source": [
    "## Crop + convert PDF"
   ]
  },
  {
   "cell_type": "code",
   "execution_count": 22,
   "metadata": {},
   "outputs": [],
   "source": [
    "from PIL import Image\n",
    "from pdf2image import convert_from_path, convert_from_bytes\n",
    "x, y, w, h = (71.999985, 351.44455, 539.999985, 470.686157)\n",
    "pages = convert_from_path('papers/2101.00689/Npi_paper.pdf', 80)\n",
    "for ii, page in enumerate(pages):\n",
    "    if ii==0:\n",
    "        img = page.crop((x, y, w, h))\n",
    "        img.save(f'trash/p2icrop{ii}.jpg', 'JPEG')"
   ]
  }
 ],
 "metadata": {
  "kernelspec": {
   "display_name": "Python 3.9.13 ('PaperOracle')",
   "language": "python",
   "name": "python3"
  },
  "language_info": {
   "codemirror_mode": {
    "name": "ipython",
    "version": 3
   },
   "file_extension": ".py",
   "mimetype": "text/x-python",
   "name": "python",
   "nbconvert_exporter": "python",
   "pygments_lexer": "ipython3",
   "version": "3.9.13"
  },
  "orig_nbformat": 4,
  "vscode": {
   "interpreter": {
    "hash": "adfda680b332929768398405ffef5c5fca2eb1802e013d485b0c57cfe5351235"
   }
  }
 },
 "nbformat": 4,
 "nbformat_minor": 2
}
